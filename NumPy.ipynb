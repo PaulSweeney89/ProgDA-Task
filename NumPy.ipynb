{
 "cells": [
  {
   "cell_type": "markdown",
   "metadata": {},
   "source": [
    "# NumPy Task\n",
    "\n",
    "***\n",
    "\n",
    "**Programming for Data Analysis Task 2020**\n",
    "\n",
    "*Exploration of Python's NumPy library & in particular the numpy.random package as part of the Programming for Data Analysis Module 2020*\n",
    "\n",
    "Submission date: 22nd November 2020\n",
    "\n",
    "- - - -\n",
    "\n",
    "**Objectives:**\n",
    "\n",
    "Provide detailed explanations with working examples for the following items in relation to the NumPy package:\n",
    "\n",
    "1. Explain the overall purpose of the package.\n",
    "\n",
    "2. Explain the use of the “Simple random data” and “Permutations” functions.\n",
    "\n",
    "3. Explain the use and purpose of at least five “Distributions” functions.\n",
    "\n",
    "4. Explain the use of seeds in generating pseudorandom numbers.\n",
    "\n",
    "***"
   ]
  },
  {
   "cell_type": "markdown",
   "metadata": {},
   "source": [
    "# 1.0 NumPy Package\n",
    "\n",
    "\"NumPy is a general-purpose array-processing package. It provides a high-performance multidimensional array object, and tools for working with these arrays\" [1]\n",
    "\n",
    "NumPy short for numerical python is a open source python library.\n",
    "\n",
    "NumPy facilitates the efficient performance of mathematical functions and operations on array and matrix datastructures, NumPy is used extensively by scientists, engineers & programmers.   \n",
    "\n",
    "The main array datastructure in Numpy is described as multidimensional or n-dimensional arrays, which  contain data of homogeneous data types i.e all data within the array is of one type such as floats, intergers etc.\n",
    "Having all that data as one type allows for the performance of a wide variety of mathematical operations & calculations on the NumPy arrays.\n",
    "\n",
    "The array datastructure is of fixed size, the number of dimensions of an array is known as the **rank** or **axes** and the number of items within an array is defined by its **shape**, which is a tuple of N non-negative integers.\n",
    "In essence an array is a grid of values or data that can be easily located by means of indexing i.e each element within an array can be identified or located by calling on it's corresponding column & row index value.\n",
    "\n",
    "![Array](https://github.com/PaulSweeney89/ProgDA-Task/blob/main/Images/Array.png?raw=true)\n",
    "\n",
    "**Figure 1** Visual Depiction of Array Datastructure [www.oreilly.com](https://www.oreilly.com/library/view/elegant-scipy/9781491922927/ch01.html)"
   ]
  },
  {
   "cell_type": "markdown",
   "metadata": {},
   "source": [
    "## 1.1 Array Creation\n",
    "\n",
    "Replicating & exploring the data arrays depicted in Figure 1."
   ]
  },
  {
   "cell_type": "code",
   "execution_count": 2,
   "metadata": {},
   "outputs": [
    {
     "name": "stdout",
     "output_type": "stream",
     "text": [
      "1-D Array =  [ 7  2  9 10]\n",
      "Type = <class 'numpy.ndarray'>\n",
      "Element Type =  int64\n",
      "1-D Array Shape = (4,)\n",
      "No. of Array Dimensions = 1\n",
      "The array contains  4 elements\n"
     ]
    }
   ],
   "source": [
    "import numpy as np\n",
    "\n",
    "# 1-Dimensional Array\n",
    "one_dim = np.array([7,2,9,10])\n",
    "\n",
    "print(\"1-D Array = \",one_dim)\n",
    "\n",
    "# Ouput type to confirmn n-dimensional array type (ndarray) & element types contained within array\n",
    "print(\"Type =\", type(one_dim))\n",
    "print(\"Element Type = \",one_dim.dtype)\n",
    "\n",
    "# Output shape of array, number of dimensions & number of elements\n",
    "print(\"1-D Array Shape =\", one_dim.shape)\n",
    "print(\"No. of Array Dimensions =\", one_dim.ndim)\n",
    "print(\"The array contains \",one_dim.size, \"elements\")"
   ]
  },
  {
   "cell_type": "markdown",
   "metadata": {},
   "source": [
    "The output above shows the creation of a 1-dimensional array using the **numpy.array()** function, the input to form the array is a list conisting of 4 elements.\n",
    "\n",
    "The type was checked to confirm that an n-dimensional array was created.\n",
    "\n",
    "The element types within the array were also checked, confirming that the array is of homogeneous data types, i.e all intergers.\n",
    "\n",
    "Finally the shape of the array was confirmed to be a 1-dimensional array  consisting of 1 row with 4 elements or columns.\n",
    "\n",
    "A 1-dimensional array can be referred to as a **vector** [2].\n"
   ]
  },
  {
   "cell_type": "code",
   "execution_count": 5,
   "metadata": {},
   "outputs": [
    {
     "name": "stdout",
     "output_type": "stream",
     "text": [
      "2-D Array =  [[5.2 3.  4.5]\n",
      " [9.1 0.1 0.3]]\n",
      "Type = <class 'numpy.ndarray'>\n",
      "Element Type =  float64\n",
      "2-D Array Shape = (2, 3)\n",
      "No. of Array Dimensions = 2\n",
      "The array contains  6 elements\n"
     ]
    }
   ],
   "source": [
    "# 2-Dimensional Array\n",
    "two_dim = np.array([[5.2,3,4.5],\n",
    "                    [9.1,0.1,0.3]])\n",
    "\n",
    "print(\"2-D Array = \",two_dim)\n",
    "\n",
    "# Ouput type to confirmn n-dimensional array type (ndarray)\n",
    "print(\"Type =\", type(two_dim))\n",
    "print(\"Element Type = \",two_dim.dtype)\n",
    "\n",
    "# Output shape of array, number of dimensions & number of elements\n",
    "print(\"2-D Array Shape =\", two_dim.shape)\n",
    "print(\"No. of Array Dimensions =\", two_dim.ndim)\n",
    "print(\"The array contains \",two_dim.size, \"elements\")"
   ]
  },
  {
   "cell_type": "markdown",
   "metadata": {},
   "source": [
    "The 2-dimensional array created above, consists of an input of 2 lists which results in an array containing 2 rows with 3 elements in each.\n",
    "\n",
    "Note that all the element types within this array are output as floats, it can be seen that the single interger value within the array was changed to a float, confirming that all data contained within arrays are of homogeneous data types.\n",
    "\n",
    "A 2-dimensional array can be referred to as a **matrix** [2]."
   ]
  },
  {
   "cell_type": "code",
   "execution_count": 6,
   "metadata": {},
   "outputs": [
    {
     "name": "stdout",
     "output_type": "stream",
     "text": [
      "[[[0. 0.]\n",
      "  [0. 0.]\n",
      "  [0. 0.]]\n",
      "\n",
      " [[0. 0.]\n",
      "  [0. 0.]\n",
      "  [0. 0.]]\n",
      "\n",
      " [[0. 0.]\n",
      "  [0. 0.]\n",
      "  [0. 0.]]\n",
      "\n",
      " [[0. 0.]\n",
      "  [0. 0.]\n",
      "  [0. 0.]]]\n"
     ]
    }
   ],
   "source": [
    "# using np.zeros to form a 3-dimensional array\n",
    "# in order to replicate the data structure shown in figure 1\n",
    "z = np.zeros((4, 3, 2))\n",
    "print(z)"
   ]
  },
  {
   "cell_type": "code",
   "execution_count": 7,
   "metadata": {},
   "outputs": [
    {
     "name": "stdout",
     "output_type": "stream",
     "text": [
      "3-D Array =  [[[1 2]\n",
      "  [4 3]\n",
      "  [7 4]]\n",
      "\n",
      " [[2 1]\n",
      "  [9 2]\n",
      "  [7 5]]\n",
      "\n",
      " [[1 0]\n",
      "  [3 4]\n",
      "  [0 2]]\n",
      "\n",
      " [[6 7]\n",
      "  [9 7]\n",
      "  [6 8]]]\n",
      "Type = <class 'numpy.ndarray'>\n",
      "Element Type =  int64\n",
      "3-D Array Shape = (4, 3, 2)\n",
      "No. of Array Dimensions = 3\n",
      "The array contains  24 elements\n"
     ]
    }
   ],
   "source": [
    "# 3-Dimensional Array \n",
    "three_dim = np.array([[[1, 2],[4, 3],[7, 4]],                     \n",
    "                     [[2, 1],[9, 2],[7, 5]],\n",
    "                     [[1, 0],[3, 4],[0, 2]],\n",
    "                     [[6, 7],[9, 7],[6, 8]]])\n",
    "\n",
    "print(\"3-D Array = \",three_dim)\n",
    "\n",
    "# Ouput type to confirmn n-dimensional array type (ndarray)\n",
    "print(\"Type =\", type(three_dim))\n",
    "print(\"Element Type = \",three_dim.dtype)\n",
    "\n",
    "# Output shape of array, number of dimensions & number of elements\n",
    "print(\"3-D Array Shape =\", three_dim.shape)\n",
    "print(\"No. of Array Dimensions =\", three_dim.ndim)\n",
    "print(\"The array contains \",three_dim.size, \"elements\")"
   ]
  },
  {
   "cell_type": "markdown",
   "metadata": {},
   "source": [
    "Manually forming arrays consisting of 3 or more dimensions can become very cumbersome, the input will consist of a number of nested lists within lists which can be quickly become very confusing. \n",
    "\n",
    "In order to correctly replicate the data structure of the 3-dimensional array shown in figure 1, the **np.zeros()** function was used initially by inputting the required array shape which then outputted the correct means to which the input lists & nested lists for the 3-dimensional array should be arranged. \n",
    "\n",
    "A 3-dimensional or more array can be referred to as a **tensor** [2]."
   ]
  },
  {
   "cell_type": "markdown",
   "metadata": {},
   "source": [
    "Other methods for array creation include:\n",
    "\n",
    "    np.zeros()    - an array of given shape & type consisting of all zero values \n",
    "    np.ones()     - an array of given shape & type consisting of all one values \n",
    "    np.empty()    - an array of given shape & type without any values\n",
    "    np.arange()   - an array of given shape & type consisting of evenly spaced values within a given interval\n",
    "    np.linspace() - an array of given shape & type consisting of evenly spaced values over a given interval\n",
    "    \n",
    "Note: **np.arrange()** & **np.linspace()** are similar functions but use different inputs & means to determine the array."
   ]
  },
  {
   "cell_type": "markdown",
   "metadata": {},
   "source": [
    "## 1.2 NumPy Functions & Operations\n",
    "\n",
    "The NumPy library can be used to perform many different functions & operations on arrays and datasets, including indexing & slicing of arrays for ease of data access, array shape manipulation, mathematical & arithmetic functions, logical operations, linear algebra operations and random number generation. \n",
    "\n",
    "The extensive list of NumPy functions, operations & more can be seen in the [NumPy Reference Manual](https://numpy.org/doc/stable/reference/index.html) which provides a brief description & outline of all functions & operations within the NumPy library. "
   ]
  },
  {
   "cell_type": "markdown",
   "metadata": {},
   "source": [
    "### Basic NumPy Operations & Functions\n",
    "\n",
    "Examples of some basic NumPy operations & functions"
   ]
  },
  {
   "cell_type": "markdown",
   "metadata": {},
   "source": [
    "**Slicing & Indexing of arrays**"
   ]
  },
  {
   "cell_type": "code",
   "execution_count": 5,
   "metadata": {
    "scrolled": true
   },
   "outputs": [
    {
     "name": "stdout",
     "output_type": "stream",
     "text": [
      "Array A =  [ 0  1  2  3  4  5  7  8  9 10 11 12] \n",
      "\n",
      "Access the 5th index value of A \n",
      " A[5] =  5 \n",
      "\n",
      "Slicing Array B \n",
      " B[1:12:3] =  [ 1  4  8 11]\n"
     ]
    }
   ],
   "source": [
    "# 1-dimensional array A\n",
    "A = np.array([0, 1, 2, 3, 4, 5, 7, 8, 9, 10, 11, 12])\n",
    "print(\"Array A = \", A, \"\\n\")\n",
    "\n",
    "# Output 5th index of array A\n",
    "print(\"Access the 5th index value of A \\n\",\"A[5] = \", A[5], \"\\n\")\n",
    "\n",
    "# Slicing of array A and output as new array B\n",
    "B = A[1:12:3]\n",
    "print(\"Slicing Array B \\n\", \"B[1:12:3] = \", B)"
   ]
  },
  {
   "cell_type": "markdown",
   "metadata": {},
   "source": [
    "**Reshaping & Appending Arrays**"
   ]
  },
  {
   "cell_type": "code",
   "execution_count": 9,
   "metadata": {
    "scrolled": false
   },
   "outputs": [
    {
     "name": "stdout",
     "output_type": "stream",
     "text": [
      "Array A =  [[ 0  1  2  3]\n",
      " [ 4  5  7  8]\n",
      " [ 9 10 11 12]] \n",
      "\n",
      "Array C =  [[ 1  4  8 11]\n",
      " [13 16 19 21]\n",
      " [24 27 30 33]]\n"
     ]
    }
   ],
   "source": [
    "# reshape array A\n",
    "A = A.reshape(3,4)\n",
    "print(\"Array A = \", A, \"\\n\")\n",
    "\n",
    "# appending values to form array C with shape 3 rows & 4 columns\n",
    "C = np.append(B, [13, 16, 19, 21, 24, 27, 30, 33]).reshape(3,4)\n",
    "print(\"Array C = \", C)"
   ]
  },
  {
   "cell_type": "markdown",
   "metadata": {},
   "source": [
    "**Mathematical Functions & Operations**"
   ]
  },
  {
   "cell_type": "code",
   "execution_count": 12,
   "metadata": {
    "scrolled": false
   },
   "outputs": [
    {
     "name": "stdout",
     "output_type": "stream",
     "text": [
      "Array D =  [[  1  17  66 124]\n",
      " [ 17  69 159 239]\n",
      " [ 33 118 251 375]] \n",
      "\n",
      "Array E =  [[ 1.          4.12310563  8.1240384  11.13552873]\n",
      " [ 4.12310563  8.30662386 12.60952021 15.45962483]\n",
      " [ 5.74456265 10.86278049 15.84297952 19.36491673]] \n",
      "\n",
      "Sum of E = 116.69678667763839 \n",
      "\n",
      "Max of E = 19.364916731037084\n"
     ]
    }
   ],
   "source": [
    "D = A + C * B\n",
    "print(\"Array D = \", D, \"\\n\")\n",
    "\n",
    "E = np.sqrt(D)\n",
    "print(\"Array E = \", E, \"\\n\")\n",
    "\n",
    "print(\"Sum of E =\", E.sum(), \"\\n\")\n",
    "print(\"Max of E =\", E.max())"
   ]
  },
  {
   "cell_type": "code",
   "execution_count": null,
   "metadata": {},
   "outputs": [],
   "source": []
  },
  {
   "cell_type": "markdown",
   "metadata": {},
   "source": [
    "Above is a very brief overview of some of the basic functionality of the NumPy Python library, it highlights the ease at which datasets can be constructed, manipulated, data accessed & how various mathematical functions & operations can be applied to dataset arrays.\n",
    "\n",
    "The [NumPy Documentation](https://numpy.org/doc/stable/) is a great resource to expand on some of the items briefy discussed above and to further delve into the functionality & extensive use of NumPY Python Library. "
   ]
  },
  {
   "cell_type": "markdown",
   "metadata": {},
   "source": [
    "<br>\n",
    "\n",
    "# 2.0 \"Simple Random Data” & “Permutations” Functions\n",
    "\n",
    "\n",
    "Simple random data is a sample subset chosen at random from a larger dataset. Each member of the simple random data subset has an equal probability of being chosen and is therefore provides an unibiased representation of the larger dataset. \n",
    "\n",
    "An example of simple random data would be the selection of 5 members of staff from a company of 20 to attend an award ceremony. Each member of staff will be given a number from 1 to 20, the numbers will then be added to a hat,  with 5 numbers being drawn at random, giving each staff member a equal chance of being chosen. The 5 staff members with the corresponding selected numbers are then selected to attend the ceremony.\n",
    "\n",
    "[!Simple Random Data Sample](link)\n",
    "\n",
    "**Figure 2** - Simple Random Data Example [www.analyticsvidhya.com](https://www.analyticsvidhya.com/blog/2019/09/data-scientists-guide-8-types-of-sampling-techniques/)"
   ]
  },
  {
   "cell_type": "code",
   "execution_count": 32,
   "metadata": {},
   "outputs": [
    {
     "name": "stdout",
     "output_type": "stream",
     "text": [
      "Numbers =  [ 1  2  3  4  5  6  7  8  9 10 11 12 13 14 15 16 17 18 19 20]\n",
      "Random Sample =  [4 2 2 2 2]\n"
     ]
    }
   ],
   "source": [
    "# a sample of containing elements numbered from 1 to 20\n",
    "sample = np.arange(1,21)\n",
    "print(\"Numbers = \", sample)\n",
    "\n",
    "# Using NumPy to generate a simple random sample subset contain 5 elements\n",
    "rg = np.random.default_rng()\n",
    "random_sample = rg.choice(sample, 5)\n",
    "print(\"Random Sample = \", random_sample)"
   ]
  },
  {
   "cell_type": "code",
   "execution_count": 39,
   "metadata": {},
   "outputs": [
    {
     "name": "stdout",
     "output_type": "stream",
     "text": [
      "<class 'numpy.ndarray'>\n",
      "<class 'numpy.ndarray'>\n",
      "<class 'numpy.ndarray'>\n",
      "<class 'numpy.ndarray'>\n",
      "<class 'numpy.ndarray'>\n",
      "<class 'numpy.ndarray'>\n",
      "<class 'numpy.ndarray'>\n",
      "<class 'numpy.ndarray'>\n",
      "<class 'numpy.ndarray'>\n",
      "<class 'numpy.ndarray'>\n"
     ]
    }
   ],
   "source": [
    "# Provide a number of random samples\n",
    "l =[]\n",
    "for i in range(0, 10):\n",
    "    print(type(np.random.choice(sample,5)))"
   ]
  },
  {
   "cell_type": "markdown",
   "metadata": {},
   "source": [
    "## References\n",
    "\n",
    "[1] [geeksforgeeks.org](https://www.geeksforgeeks.org/python-numpy/)\n",
    "\n",
    "[2] [numpy.org,  Absolute Beginners Tutorial](https://numpy.org/doc/1.19/user/absolute_beginners.html)\n",
    "\n",
    "[3] [towardsdatascience.com, The Ultimate Beginners Guide to NumPy ](https://towardsdatascience.com/the-ultimate-beginners-guide-to-numpy-f5a2f99aef54)\n",
    "\n",
    "[4] [stackabuse.com, NumPy Tutorial - a Simple Example Based Tutorial](https://stackabuse.com/numpy-tutorial-a-simple-example-based-guide/)\n",
    "\n",
    "[5] [investopedia.com, Simple Random Sample](https://www.investopedia.com/terms/s/simple-random-sample.asp)\n",
    "\n",
    "[6] [moonbooks.org, How to Randomly Select Elements of an Array with NumPy](https://moonbooks.org/Articles/How-to-randomly-select-elements-of-an-array-with-numpy-in-python-/)"
   ]
  },
  {
   "cell_type": "markdown",
   "metadata": {},
   "source": []
  },
  {
   "cell_type": "code",
   "execution_count": null,
   "metadata": {},
   "outputs": [],
   "source": []
  }
 ],
 "metadata": {
  "kernelspec": {
   "display_name": "Python 3",
   "language": "python",
   "name": "python3"
  },
  "language_info": {
   "codemirror_mode": {
    "name": "ipython",
    "version": 3
   },
   "file_extension": ".py",
   "mimetype": "text/x-python",
   "name": "python",
   "nbconvert_exporter": "python",
   "pygments_lexer": "ipython3",
   "version": "3.8.3"
  }
 },
 "nbformat": 4,
 "nbformat_minor": 4
}
