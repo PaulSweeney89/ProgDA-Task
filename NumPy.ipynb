{
 "cells": [
  {
   "cell_type": "markdown",
   "metadata": {},
   "source": [
    "# NumPy Task\n",
    "\n",
    "***\n",
    "\n",
    "**Programming for Data Analysis Task 2020**\n",
    "\n",
    "*Exploration of Python's NumPy library & in particular the numpy.random package as part of the Programming for Data Analysis Module 2020*\n",
    "\n",
    "Submission date: 22nd November 2020\n",
    "\n",
    "- - - -\n",
    "\n",
    "**Objectives:**\n",
    "\n",
    "Provide detailed explanations with working examples for the following items in relation to the NumPy package:\n",
    "\n",
    "1. Explain the overall purpose of the package.\n",
    "\n",
    "2. Explain the use of the “Simple random data” and “Permutations” functions.\n",
    "\n",
    "3. Explain the use and purpose of at least five “Distributions” functions.\n",
    "\n",
    "4. Explain the use of seeds in generating pseudorandom numbers.\n",
    "\n",
    "***"
   ]
  },
  {
   "cell_type": "markdown",
   "metadata": {},
   "source": [
    "## 1.0 NumPy Package\n",
    "\n",
    "\"NumPy is a general-purpose array-processing package. It provides a high-performance multidimensional array object, and tools for working with these arrays\" [1]\n",
    "\n",
    "NumPy facilitates the efficient performance of mathematical functions and operations on array and matrix datastructures, NumPy is used extensively by scientists, engineers & programmers.   \n",
    "\n",
    "The main array datastructure in Numpy is described as multidimensional or n-dimensional arrays, which  contain data of homogeneous data types i.e all data within the array is of one type such as floats, intergers etc.\n",
    "\n",
    "The array datastructure is of fixed size, the number of dimensions and items in an array is defined by its shape, which is a tuple of N non-negative integers.\n",
    "\n",
    "[!Array](link)\n",
    "\n",
    "**Figure 1** Visual Depiction of Array Datastructure [www.oreilly.com](https://www.oreilly.com/library/view/elegant-scipy/9781491922927/ch01.html)"
   ]
  },
  {
   "cell_type": "markdown",
   "metadata": {},
   "source": [
    "## 1.1 Array Creation\n",
    "\n",
    "Replicating & exploring the data arrays depicted in Figure 1."
   ]
  },
  {
   "cell_type": "code",
   "execution_count": 12,
   "metadata": {},
   "outputs": [
    {
     "name": "stdout",
     "output_type": "stream",
     "text": [
      "1-D Array =  [[ 7  2  9 10]]\n",
      "Type = <class 'numpy.ndarray'>\n",
      "Element Type =  int64\n",
      "1-D Array Shape = (1, 4)\n"
     ]
    }
   ],
   "source": [
    "import numpy as np\n",
    "\n",
    "# 1-Dimensional Array\n",
    "one_dim = np.array([[7,2,9,10]])\n",
    "\n",
    "print(\"1-D Array = \",one_dim)\n",
    "\n",
    "# Ouput type to confirmn n-dimensional array type (ndarray) & element types contained within array\n",
    "print(\"Type =\", type(one_dim))\n",
    "print(\"Element Type = \",one_dim.dtype)\n",
    "\n",
    "# Output shape of array\n",
    "print(\"1-D Array Shape =\", one_dim.shape)"
   ]
  },
  {
   "cell_type": "markdown",
   "metadata": {},
   "source": [
    "The output above shows the creation of a 1-dimensional array using the **numpy.array()** function, the input to form the array is a list conisting of 4 elements.\n",
    "\n",
    "The type was checked to confirm that an n-dimensional array was created.\n",
    "\n",
    "The element types within the array were also checked, confirming that the array is of homogeneous data types, i.e all intergers.\n",
    "\n",
    "Finally the shape of the array was confirmed to be a 1-dimensional array  consisting of 1 row with 4 elements or columns.\n",
    "\n",
    "A 1-dimensional array can be referred to as a **vector** [2].\n"
   ]
  },
  {
   "cell_type": "code",
   "execution_count": 13,
   "metadata": {},
   "outputs": [
    {
     "name": "stdout",
     "output_type": "stream",
     "text": [
      "2-D Array =  [[5.2 3.  4.5]\n",
      " [9.1 0.1 0.3]]\n",
      "Type = <class 'numpy.ndarray'>\n",
      "Element Type =  float64\n",
      "2-D Array Shape = (2, 3)\n"
     ]
    }
   ],
   "source": [
    "# 2-Dimensional Array\n",
    "two_dim = np.array([[5.2,3,4.5],\n",
    "                    [9.1,0.1,0.3]])\n",
    "\n",
    "print(\"2-D Array = \",two_dim)\n",
    "\n",
    "# Ouput type to confirmn n-dimensional array type (ndarray)\n",
    "print(\"Type =\", type(two_dim))\n",
    "print(\"Element Type = \",two_dim.dtype)\n",
    "\n",
    "# Output shape of array\n",
    "print(\"2-D Array Shape =\", two_dim.shape)"
   ]
  },
  {
   "cell_type": "markdown",
   "metadata": {},
   "source": [
    "The 2-dimensional array was created above, consists of an input of 2 lists which results in an array containing 2 rows with 3 elements in each.\n",
    "\n",
    "Note that all the element types within this array are output as floats, it can be seen that the single interger value within the array was changed to a float, to confirm that all data contained within arrays are of homogeneous data types.\n",
    "\n",
    "A 2-dimensional array can be referred to as a **matrix** [2]."
   ]
  },
  {
   "cell_type": "code",
   "execution_count": 14,
   "metadata": {},
   "outputs": [
    {
     "name": "stdout",
     "output_type": "stream",
     "text": [
      "[[[0. 0.]\n",
      "  [0. 0.]\n",
      "  [0. 0.]]\n",
      "\n",
      " [[0. 0.]\n",
      "  [0. 0.]\n",
      "  [0. 0.]]\n",
      "\n",
      " [[0. 0.]\n",
      "  [0. 0.]\n",
      "  [0. 0.]]\n",
      "\n",
      " [[0. 0.]\n",
      "  [0. 0.]\n",
      "  [0. 0.]]]\n"
     ]
    }
   ],
   "source": [
    "# using np.zeros to form a 3-dimensional array\n",
    "# in order to replicate the data structure shown in figure 1\n",
    "z = np.zeros((4, 3, 2))\n",
    "print(z)"
   ]
  },
  {
   "cell_type": "code",
   "execution_count": 15,
   "metadata": {},
   "outputs": [
    {
     "name": "stdout",
     "output_type": "stream",
     "text": [
      "3-D Array =  [[[1 2]\n",
      "  [4 3]\n",
      "  [7 4]]\n",
      "\n",
      " [[2 1]\n",
      "  [9 2]\n",
      "  [7 5]]\n",
      "\n",
      " [[1 0]\n",
      "  [3 4]\n",
      "  [0 2]]\n",
      "\n",
      " [[6 7]\n",
      "  [9 7]\n",
      "  [6 8]]]\n",
      "Type = <class 'numpy.ndarray'>\n",
      "Element Type =  int64\n",
      "3-D Array Shape = (4, 3, 2)\n"
     ]
    }
   ],
   "source": [
    "# 3-Dimensional Array \n",
    "three_dim = np.array([[[1, 2],[4, 3],[7, 4]],                     \n",
    "                     [[2, 1],[9, 2],[7, 5]],\n",
    "                     [[1, 0],[3, 4],[0, 2]],\n",
    "                     [[6, 7],[9, 7],[6, 8]]])\n",
    "\n",
    "print(\"3-D Array = \",three_dim)\n",
    "\n",
    "# Ouput type to confirmn n-dimensional array type (ndarray)\n",
    "print(\"Type =\", type(three_dim))\n",
    "print(\"Element Type = \",three_dim.dtype)\n",
    "\n",
    "# Output shape of array\n",
    "print(\"3-D Array Shape =\", three_dim.shape)"
   ]
  },
  {
   "cell_type": "markdown",
   "metadata": {},
   "source": [
    "Manually forming arrays consisting of 3 or more dimensions can become very cumbersome, the input will consist of a number of nested lists within lists which can be quickly become very confusing. \n",
    "\n",
    "In order to correctly replicate the data structure of the 3-dimensional array shown in figure 1, the **np.zeros()** function was used initially by inputting the required array shape which then outputted the correct means to which the input lists & nested lists for the 3-dimensional array should be arranged. \n",
    "\n",
    "A 3-dimensional or more array can be referred to as a **tensor** [2]."
   ]
  },
  {
   "cell_type": "code",
   "execution_count": null,
   "metadata": {},
   "outputs": [],
   "source": []
  },
  {
   "cell_type": "markdown",
   "metadata": {},
   "source": [
    "## References\n",
    "\n",
    "[1] [www.geeksforgeeks.org](https://www.geeksforgeeks.org/python-numpy/)\n",
    "\n",
    "[2] [www.numpy.org,  Absolute Begineers Tutorial](https://numpy.org/doc/1.19/user/absolute_beginners.html)"
   ]
  },
  {
   "cell_type": "code",
   "execution_count": null,
   "metadata": {},
   "outputs": [],
   "source": []
  }
 ],
 "metadata": {
  "kernelspec": {
   "display_name": "Python 3",
   "language": "python",
   "name": "python3"
  },
  "language_info": {
   "codemirror_mode": {
    "name": "ipython",
    "version": 3
   },
   "file_extension": ".py",
   "mimetype": "text/x-python",
   "name": "python",
   "nbconvert_exporter": "python",
   "pygments_lexer": "ipython3",
   "version": "3.8.3"
  }
 },
 "nbformat": 4,
 "nbformat_minor": 4
}
