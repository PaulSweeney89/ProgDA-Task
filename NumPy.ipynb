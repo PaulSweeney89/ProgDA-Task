{
 "cells": [
  {
   "cell_type": "markdown",
   "metadata": {},
   "source": [
    "# NumPy Task\n",
    "\n",
    "***\n",
    "\n",
    "**Programming for Data Analysis Task 2020**\n",
    "\n",
    "*Exploration of Python's NumPy library & in particular the numpy.random package as part of the Programming for Data Analysis Module 2020*\n",
    "\n",
    "Submission date: 22nd November 2020\n",
    "\n",
    "- - - -\n",
    "\n",
    "**Objectives:**\n",
    "\n",
    "Provide detailed explanations with working examples for the following items in relation to the NumPy package  & in particular:\n",
    "\n",
    "1. Explain the overall purpose of the package.\n",
    "\n",
    "2. Explain the use of the “Simple random data” and “Permutations” functions.\n",
    "\n",
    "3. Explain the use and purpose of at least five “Distributions” functions.\n",
    "\n",
    "4. Explain the use of seeds in generating pseudorandom numbers.\n",
    "\n",
    "Full description of the coursework's assessment & tasks can be [here](https://github.com/PaulSweeney89/ProgDA-Task/blob/main/ProgDA_Assignment.pdf).\n",
    "\n",
    "***"
   ]
  },
  {
   "cell_type": "markdown",
   "metadata": {},
   "source": [
    "# 1.0 NumPy Package\n",
    "\n",
    "\"NumPy is a general-purpose array-processing package. It provides a high-performance multidimensional array object, and tools for working with these arrays\" [1]\n",
    "\n",
    "NumPy short for numerical python is a open source python library.\n",
    "\n",
    "NumPy facilitates the efficient performance of mathematical functions and operations on array and matrix datastructures, NumPy is used extensively by scientists, engineers & programmers.   \n",
    "\n",
    "The main array datastructure in Numpy is described as multidimensional or n-dimensional arrays, which  contain data of homogeneous data types i.e all data within the array is of one type such as floats, intergers etc.\n",
    "Having all that data as one type allows for the performance of a wide variety of mathematical operations & calculations on the NumPy arrays.\n",
    "\n",
    "The array datastructure is of fixed size, the number of dimensions of an array is known as the **rank** or **axes** and the number of items within an array is defined by its **shape**, which is a tuple of N non-negative integers.\n",
    "In essence an array is a grid of values or data that can be easily located by means of indexing i.e each element within an array can be identified or located by calling on it's corresponding column & row index value.\n",
    "\n",
    "<img src=\"https://github.com/PaulSweeney89/ProgDA-Task/blob/main/Images/Array.png?raw=true\" width=500 />\n",
    "\n",
    "**Figure 1** Visual Depiction of Array Datastructure [www.oreilly.com](https://www.oreilly.com/library/view/elegant-scipy/9781491922927/ch01.html)"
   ]
  },
  {
   "cell_type": "markdown",
   "metadata": {},
   "source": [
    "## 1.1 Array Creation\n",
    "\n",
    "Replicating & exploring the data arrays depicted in Figure 1."
   ]
  },
  {
   "cell_type": "code",
   "execution_count": 1,
   "metadata": {},
   "outputs": [
    {
     "name": "stdout",
     "output_type": "stream",
     "text": [
      "1-D Array =  [ 7  2  9 10]\n",
      "Type = <class 'numpy.ndarray'>\n",
      "Element Type =  int32\n",
      "1-D Array Shape = (4,)\n",
      "No. of Array Dimensions = 1\n",
      "The array contains  4 elements\n"
     ]
    }
   ],
   "source": [
    "import numpy as np\n",
    "\n",
    "# 1-Dimensional Array\n",
    "one_dim = np.array([7,2,9,10])\n",
    "\n",
    "print(\"1-D Array = \",one_dim)\n",
    "\n",
    "# Ouput type to confirmn n-dimensional array type (ndarray) & element types contained within array\n",
    "print(\"Type =\", type(one_dim))\n",
    "print(\"Element Type = \",one_dim.dtype)\n",
    "\n",
    "# Output shape of array, number of dimensions & number of elements\n",
    "print(\"1-D Array Shape =\", one_dim.shape)\n",
    "print(\"No. of Array Dimensions =\", one_dim.ndim)\n",
    "print(\"The array contains \",one_dim.size, \"elements\")"
   ]
  },
  {
   "cell_type": "markdown",
   "metadata": {},
   "source": [
    "The output above shows the creation of a 1-dimensional array using the **numpy.array()** function, the input to form the array is a list conisting of 4 elements.\n",
    "\n",
    "The type was checked to confirm that an n-dimensional array was created.\n",
    "\n",
    "The element types within the array were also checked, confirming that the array is of homogeneous data types, i.e all intergers.\n",
    "\n",
    "Finally the shape of the array was confirmed to be a 1-dimensional array  consisting of 1 row with 4 elements or columns.\n",
    "\n",
    "A 1-dimensional array can be referred to as a **vector** [2].\n"
   ]
  },
  {
   "cell_type": "code",
   "execution_count": 2,
   "metadata": {},
   "outputs": [
    {
     "name": "stdout",
     "output_type": "stream",
     "text": [
      "2-D Array =  [[5.2 3.  4.5]\n",
      " [9.1 0.1 0.3]]\n",
      "Type = <class 'numpy.ndarray'>\n",
      "Element Type =  float64\n",
      "2-D Array Shape = (2, 3)\n",
      "No. of Array Dimensions = 2\n",
      "The array contains  6 elements\n"
     ]
    }
   ],
   "source": [
    "# 2-Dimensional Array\n",
    "two_dim = np.array([[5.2,3,4.5],\n",
    "                    [9.1,0.1,0.3]])\n",
    "\n",
    "print(\"2-D Array = \",two_dim)\n",
    "\n",
    "# Ouput type to confirmn n-dimensional array type (ndarray)\n",
    "print(\"Type =\", type(two_dim))\n",
    "print(\"Element Type = \",two_dim.dtype)\n",
    "\n",
    "# Output shape of array, number of dimensions & number of elements\n",
    "print(\"2-D Array Shape =\", two_dim.shape)\n",
    "print(\"No. of Array Dimensions =\", two_dim.ndim)\n",
    "print(\"The array contains \",two_dim.size, \"elements\")"
   ]
  },
  {
   "cell_type": "markdown",
   "metadata": {},
   "source": [
    "The 2-dimensional array created above, consists of an input of 2 lists which results in an array containing 2 rows with 3 elements in each.\n",
    "\n",
    "Note that all the element types within this array are output as floats, it can be seen that the single interger value within the array was changed to a float, confirming that all data contained within arrays are of homogeneous data types.\n",
    "\n",
    "A 2-dimensional array can be referred to as a **matrix** [2]."
   ]
  },
  {
   "cell_type": "code",
   "execution_count": 3,
   "metadata": {},
   "outputs": [
    {
     "name": "stdout",
     "output_type": "stream",
     "text": [
      "[[[0. 0.]\n",
      "  [0. 0.]\n",
      "  [0. 0.]]\n",
      "\n",
      " [[0. 0.]\n",
      "  [0. 0.]\n",
      "  [0. 0.]]\n",
      "\n",
      " [[0. 0.]\n",
      "  [0. 0.]\n",
      "  [0. 0.]]\n",
      "\n",
      " [[0. 0.]\n",
      "  [0. 0.]\n",
      "  [0. 0.]]]\n"
     ]
    }
   ],
   "source": [
    "# using np.zeros to form a 3-dimensional array\n",
    "# in order to replicate the data structure shown in figure 1\n",
    "z = np.zeros((4, 3, 2))\n",
    "print(z)"
   ]
  },
  {
   "cell_type": "code",
   "execution_count": 4,
   "metadata": {},
   "outputs": [
    {
     "name": "stdout",
     "output_type": "stream",
     "text": [
      "3-D Array =  [[[1 2]\n",
      "  [4 3]\n",
      "  [7 4]]\n",
      "\n",
      " [[2 1]\n",
      "  [9 2]\n",
      "  [7 5]]\n",
      "\n",
      " [[1 0]\n",
      "  [3 4]\n",
      "  [0 2]]\n",
      "\n",
      " [[6 7]\n",
      "  [9 7]\n",
      "  [6 8]]]\n",
      "Type = <class 'numpy.ndarray'>\n",
      "Element Type =  int32\n",
      "3-D Array Shape = (4, 3, 2)\n",
      "No. of Array Dimensions = 3\n",
      "The array contains  24 elements\n"
     ]
    }
   ],
   "source": [
    "# 3-Dimensional Array \n",
    "three_dim = np.array([[[1, 2],[4, 3],[7, 4]],                     \n",
    "                     [[2, 1],[9, 2],[7, 5]],\n",
    "                     [[1, 0],[3, 4],[0, 2]],\n",
    "                     [[6, 7],[9, 7],[6, 8]]])\n",
    "\n",
    "print(\"3-D Array = \",three_dim)\n",
    "\n",
    "# Ouput type to confirmn n-dimensional array type (ndarray)\n",
    "print(\"Type =\", type(three_dim))\n",
    "print(\"Element Type = \",three_dim.dtype)\n",
    "\n",
    "# Output shape of array, number of dimensions & number of elements\n",
    "print(\"3-D Array Shape =\", three_dim.shape)\n",
    "print(\"No. of Array Dimensions =\", three_dim.ndim)\n",
    "print(\"The array contains \",three_dim.size, \"elements\")"
   ]
  },
  {
   "cell_type": "markdown",
   "metadata": {},
   "source": [
    "Manually forming arrays consisting of 3 or more dimensions can become very cumbersome, the input will consist of a number of nested lists within lists which can be quickly become very confusing. \n",
    "\n",
    "In order to correctly replicate the data structure of the 3-dimensional array shown in figure 1, the **np.zeros()** function was used initially by inputting the required array shape which then outputted the correct means to which the input lists & nested lists for the 3-dimensional array should be arranged. \n",
    "\n",
    "A 3-dimensional or more array can be referred to as a **tensor** [2]."
   ]
  },
  {
   "cell_type": "markdown",
   "metadata": {},
   "source": [
    "Other methods for array creation include:\n",
    "\n",
    "    np.zeros()    - an array of given shape & type consisting of all zero values \n",
    "    np.ones()     - an array of given shape & type consisting of all one values \n",
    "    np.empty()    - an array of given shape & type without any values\n",
    "    np.arange()   - an array of given shape & type consisting of evenly spaced values within a given interval\n",
    "    np.linspace() - an array of given shape & type consisting of evenly spaced values over a given interval\n",
    "    \n",
    "Note: **np.arrange()** & **np.linspace()** are similar functions but use different inputs & means to determine the array."
   ]
  },
  {
   "cell_type": "markdown",
   "metadata": {},
   "source": [
    "## 1.2 NumPy Functions & Operations\n",
    "\n",
    "The NumPy library can be used to perform many different functions & operations on arrays and datasets, including indexing & slicing of arrays for ease of data access, array shape manipulation, mathematical & arithmetic functions, logical operations, linear algebra operations and random number generation. \n",
    "\n",
    "The extensive list of NumPy functions, operations & more can be seen in the [NumPy Reference Manual](https://numpy.org/doc/stable/reference/index.html) which provides a brief description & outline of all functions & operations within the NumPy library. "
   ]
  },
  {
   "cell_type": "markdown",
   "metadata": {},
   "source": [
    "### Basic NumPy Operations & Functions\n",
    "\n",
    "Examples of some basic NumPy operations & functions"
   ]
  },
  {
   "cell_type": "markdown",
   "metadata": {},
   "source": [
    "**Slicing & Indexing of arrays**"
   ]
  },
  {
   "cell_type": "code",
   "execution_count": 5,
   "metadata": {
    "scrolled": true
   },
   "outputs": [
    {
     "name": "stdout",
     "output_type": "stream",
     "text": [
      "Array A =  [ 0  1  2  3  4  5  7  8  9 10 11 12] \n",
      "\n",
      "Access the 5th index value of A \n",
      " A[5] =  5 \n",
      "\n",
      "Slicing Array B \n",
      " B[1:12:3] =  [ 1  4  8 11]\n"
     ]
    }
   ],
   "source": [
    "# 1-dimensional array A\n",
    "A = np.array([0, 1, 2, 3, 4, 5, 7, 8, 9, 10, 11, 12])\n",
    "print(\"Array A = \", A, \"\\n\")\n",
    "\n",
    "# Output 5th index of array A\n",
    "print(\"Access the 5th index value of A \\n\",\"A[5] = \", A[5], \"\\n\")\n",
    "\n",
    "# Slicing of array A and output as new array B\n",
    "B = A[1:12:3]\n",
    "print(\"Slicing Array B \\n\", \"B[1:12:3] = \", B)"
   ]
  },
  {
   "cell_type": "markdown",
   "metadata": {},
   "source": [
    "**Reshaping & Appending Arrays**"
   ]
  },
  {
   "cell_type": "code",
   "execution_count": 6,
   "metadata": {
    "scrolled": false
   },
   "outputs": [
    {
     "name": "stdout",
     "output_type": "stream",
     "text": [
      "Array A =  [[ 0  1  2  3]\n",
      " [ 4  5  7  8]\n",
      " [ 9 10 11 12]] \n",
      "\n",
      "Array C =  [[ 1  4  8 11]\n",
      " [13 16 19 21]\n",
      " [24 27 30 33]]\n"
     ]
    }
   ],
   "source": [
    "# reshape array A\n",
    "A = A.reshape(3,4)\n",
    "print(\"Array A = \", A, \"\\n\")\n",
    "\n",
    "# appending values to form array C with shape 3 rows & 4 columns\n",
    "C = np.append(B, [13, 16, 19, 21, 24, 27, 30, 33]).reshape(3,4)\n",
    "print(\"Array C = \", C)"
   ]
  },
  {
   "cell_type": "markdown",
   "metadata": {},
   "source": [
    "**Mathematical Functions & Operations**"
   ]
  },
  {
   "cell_type": "code",
   "execution_count": 7,
   "metadata": {
    "scrolled": false
   },
   "outputs": [
    {
     "name": "stdout",
     "output_type": "stream",
     "text": [
      "Array D =  [[  1  17  66 124]\n",
      " [ 17  69 159 239]\n",
      " [ 33 118 251 375]] \n",
      "\n",
      "Array E =  [[ 1.          4.12310563  8.1240384  11.13552873]\n",
      " [ 4.12310563  8.30662386 12.60952021 15.45962483]\n",
      " [ 5.74456265 10.86278049 15.84297952 19.36491673]] \n",
      "\n",
      "Sum of E = 116.69678667763839 \n",
      "\n",
      "Max of E = 19.364916731037084\n"
     ]
    }
   ],
   "source": [
    "D = A + C * B\n",
    "print(\"Array D = \", D, \"\\n\")\n",
    "\n",
    "E = np.sqrt(D)\n",
    "print(\"Array E = \", E, \"\\n\")\n",
    "\n",
    "print(\"Sum of E =\", E.sum(), \"\\n\")\n",
    "print(\"Max of E =\", E.max())"
   ]
  },
  {
   "cell_type": "markdown",
   "metadata": {},
   "source": [
    "Above is a very brief overview of some of the basic functionality of the NumPy Python library, it highlights the ease at which datasets can be constructed, manipulated, data accessed & how various mathematical functions & operations can be applied to dataset arrays.\n",
    "\n",
    "The [NumPy Documentation](https://numpy.org/doc/stable/) is a great resource to expand on some of the items briefy discussed above and to further delve into the functionality & extensive use of NumPY Python Library. "
   ]
  },
  {
   "cell_type": "markdown",
   "metadata": {},
   "source": [
    "<br>\n",
    "\n",
    "# 2.0 \"Simple Random Data” & “Permutations” Functions\n",
    "\n",
    "## 2.1 Simple Random Data\n",
    "\n",
    "Simple random data is a sample subset chosen at random from a larger dataset. Each member of the simple random data subset has an equal probability of being chosen and is therefore provides an unibiased representation of the larger dataset. \n",
    "\n",
    "An example of simple random data would be the selection of 5 members of staff from a company of 20 to attend an award ceremony. Each member of staff will be given a number from 1 to 20, the numbers will then be added to a hat,  with 5 numbers being drawn at random, giving each staff member a equal chance of being chosen. The 5 staff members with the corresponding selected numbers are then selected to attend the ceremony.\n",
    "\n",
    "\n",
    "<img src=\"https://github.com/PaulSweeney89/ProgDA-Task/blob/main/Images/Simple%20Random%20Sampling.png?raw=true\" width=500 />\n",
    "\n",
    "**Figure 2** - Simple Random Data Example [www.analyticsvidhya.com](https://www.analyticsvidhya.com/blog/2019/09/data-scientists-guide-8-types-of-sampling-techniques/)"
   ]
  },
  {
   "cell_type": "code",
   "execution_count": 8,
   "metadata": {
    "scrolled": true
   },
   "outputs": [
    {
     "name": "stdout",
     "output_type": "stream",
     "text": [
      "Numbers =  [ 1  2  3  4  5  6  7  8  9 10 11 12 13 14 15 16 17 18 19 20]\n",
      "Random Sample =  [ 4  3  4  7 13]\n"
     ]
    }
   ],
   "source": [
    "# a sample of containing elements numbered from 1 to 20\n",
    "sample = np.arange(1,21)\n",
    "print(\"Numbers = \", sample)\n",
    "\n",
    "# Using NumPy to generate a simple random sample subset containing 5 elements\n",
    "rg = np.random.default_rng()\n",
    "random_sample = rg.choice(sample, 5)\n",
    "print(\"Random Sample = \", random_sample)"
   ]
  },
  {
   "cell_type": "code",
   "execution_count": 9,
   "metadata": {
    "scrolled": true
   },
   "outputs": [
    {
     "name": "stdout",
     "output_type": "stream",
     "text": [
      "Random Sample 1 =  [13 12  4 19  6]\n",
      "Random Sample 2 =  [19 19  3  6  6]\n",
      "Random Sample 3 =  [ 2 19  4  3  5]\n",
      "Random Sample 4 =  [ 8 13 10 12 10]\n",
      "Random Sample 5 =  [10  5  2  4  8]\n",
      "Random Sample 6 =  [15 18 14  2  5]\n",
      "Random Sample 7 =  [20  9 10  7  6]\n",
      "Random Sample 8 =  [ 2  4  9 14  7]\n",
      "Random Sample 9 =  [ 6 10 15  8  9]\n",
      "Random Sample 10 =  [ 1  2 15  9 13]\n"
     ]
    }
   ],
   "source": [
    "# using a for loop to output 10 random samples.\n",
    "for i in range(0, 10):\n",
    "    print(\"Random Sample %d = \" % (i+1), np.random.choice(sample,5))"
   ]
  },
  {
   "cell_type": "markdown",
   "metadata": {},
   "source": [
    "Above the NumPy **random.choice()** function was used to generate a random sample of 5 elements from a 1-dimensional array of 20 elements.\n",
    "\n",
    "Prior to using the NumPy random functions & outputting random data, the algorithm for generating pseudo-random numbers must be selected, in this instance the default NumPy random number generator - PCG64 was used.\n",
    "\n",
    "10 different random samples were also output to demonstrate the random number generation of the NumPy random function.\n",
    "\n",
    "The numbers & sequence of numbers generated by NumPy appear to be completely random & patternless however they are actual produced using a completely deterministic and repeatable process, algorithms such as the PCG64 (Permuted Congruential Generator 64 bit) or the Mersenne Twister Algorithm. "
   ]
  },
  {
   "cell_type": "markdown",
   "metadata": {},
   "source": [
    "## 2.2 Permutations\n",
    "\n",
    "A permutation can be described as the rearrangement of elements within a sequence of numbers. \n",
    "\n",
    "NumPy's **random.permutation()** function can take in a interger value or an array of values  to which it will randomly rearrange the sequence of values & output the permutation. \n",
    "\n",
    "NumPy also has a **random.shuffle()** function which rearranges a sequence in-place by shuffling its contents."
   ]
  },
  {
   "cell_type": "code",
   "execution_count": 10,
   "metadata": {},
   "outputs": [
    {
     "data": {
      "text/plain": [
       "array([0, 3, 1, 2, 4])"
      ]
     },
     "execution_count": 10,
     "metadata": {},
     "output_type": "execute_result"
    }
   ],
   "source": [
    "# numpy random permutation inputting a interger value, 5 (range from 0 to 4)\n",
    "np.random.permutation(5) "
   ]
  },
  {
   "cell_type": "code",
   "execution_count": 11,
   "metadata": {},
   "outputs": [
    {
     "name": "stdout",
     "output_type": "stream",
     "text": [
      "p =  [1, 2, 3]\n",
      "p permutation = [1 3 2]\n"
     ]
    }
   ],
   "source": [
    "# numpy random permutation inputting an array of values, list p\n",
    "p = [1, 2, 3]\n",
    "print(\"p = \", p)\n",
    "print(\"p permutation =\", np.random.permutation(p))"
   ]
  },
  {
   "cell_type": "code",
   "execution_count": 12,
   "metadata": {},
   "outputs": [
    {
     "name": "stdout",
     "output_type": "stream",
     "text": [
      "p shuffle =  [1, 2, 3]\n"
     ]
    }
   ],
   "source": [
    "# numpy random shuffle function\n",
    "np.random.shuffle(p)\n",
    "print(\"p shuffle = \", p)"
   ]
  },
  {
   "cell_type": "markdown",
   "metadata": {},
   "source": [
    "The **random.permutation()** function returns a NumPy ndarray of the inputted values while the **random.shuffle()** function modifies the sequence in-place by shuffling its contents, in this instance rearranges values within the list p.  "
   ]
  },
  {
   "cell_type": "code",
   "execution_count": 13,
   "metadata": {},
   "outputs": [
    {
     "name": "stdout",
     "output_type": "stream",
     "text": [
      "array [[0 1 2]\n",
      " [3 4 5]\n",
      " [6 7 8]]\n"
     ]
    },
    {
     "data": {
      "text/plain": [
       "array([[3, 4, 5],\n",
       "       [0, 1, 2],\n",
       "       [6, 7, 8]])"
      ]
     },
     "execution_count": 13,
     "metadata": {},
     "output_type": "execute_result"
    }
   ],
   "source": [
    "# numpy random permutation inputting an multi-dimensional array, arr\n",
    "arr = np.arange(9).reshape(3,3)\n",
    "print(\"array\", arr)\n",
    "\n",
    "np.random.permutation(arr)"
   ]
  },
  {
   "cell_type": "markdown",
   "metadata": {},
   "source": [
    "**Note:** The multi-dimensional array, is only shuffled along its first index."
   ]
  },
  {
   "cell_type": "markdown",
   "metadata": {},
   "source": [
    "The number of permutations can be calculated using the formula:\n",
    "\n",
    "$$\\frac{n!}{(n-r)!} \\hspace{1cm}(1)$$\n",
    "\n",
    "**Example:** \n",
    "\n",
    "Using the list [1, 2, 3]\n",
    "\n",
    "$n = 3, r = 3$\n",
    "\n",
    "$\\frac{3!}{(0)!} = \\frac{3x2x1}{1} = 6$\n",
    "\n",
    "There are 6 permutations of the list [1, 2, 3]\n",
    "\n",
    "[1, 2, 3], [1, 3, 2], [2, 1, 3], [2, 3, 1], [3, 1, 2], [3, 2, 1]\n",
    "\n",
    "**Note:** running the random.permutation for list p = [1, 2, 3] 6 times will not necessary output all 6 different permutations, as it is random function it will more likely output the same permutation a number times."
   ]
  },
  {
   "cell_type": "markdown",
   "metadata": {},
   "source": [
    "<br>\n",
    "\n",
    "# 3.0 Distributions\n",
    "\n",
    "The random module within NumPy provides different methods for random data generation & distribution, i.e NumPy can be used to create an array of random numbers or values such that these values will fit within the specified distribution shape.\n",
    "\n"
   ]
  },
  {
   "cell_type": "markdown",
   "metadata": {},
   "source": [
    "## 3.1 Normal Distribution"
   ]
  },
  {
   "cell_type": "code",
   "execution_count": 14,
   "metadata": {
    "scrolled": false
   },
   "outputs": [
    {
     "name": "stdout",
     "output_type": "stream",
     "text": [
      "[43.16099995 48.67102555 55.60836813 49.18129316 47.7549357  58.54587582\n",
      " 47.61546835 46.13462189 48.89262192 42.74959768 50.25150418 59.14150094\n",
      " 47.01634785 52.68822307 44.21461342 50.38786578 48.10253629 53.56254189\n",
      " 49.95600534 43.09019492 61.53105428 52.39620977 43.04636774 44.91826445\n",
      " 40.12898865 50.50099056 44.97123487 44.98437078 57.78376087 43.77713413\n",
      " 48.21358738 44.10214723 47.05805255 45.33076292 51.6129623  44.55496375\n",
      " 55.8064228  44.33386566 46.0272191  46.60886653 49.21719669 49.94889583\n",
      " 53.46743266 42.48212705 53.25035985 52.34414781 55.55800577 51.5118876\n",
      " 52.27118572 47.20607883]\n"
     ]
    },
    {
     "data": {
      "image/png": "[encoded data removed]",
      "text/plain": [
       "<Figure size 432x288 with 1 Axes>"
      ]
     },
     "metadata": {
      "needs_background": "light"
     },
     "output_type": "display_data"
    }
   ],
   "source": [
    "import seaborn as sns\n",
    "import matplotlib.pyplot as plt\n",
    "from scipy import stats\n",
    "\n",
    "# NumPy random normal distribution\n",
    "arr_norm = np.random.normal(50, 5, 1000)\n",
    "\n",
    "# Seaborn distribution plot of array  generated by the random normal distribution\n",
    "sns.distplot(arr_norm)\n",
    "\n",
    "# Output first 50 values of the random normal distribution array\n",
    "print(arr_norm[0:50])"
   ]
  },
  {
   "cell_type": "markdown",
   "metadata": {},
   "source": [
    "Using NumPy's **random.normal()** function, random normal distributed values were generated around the central peak or mean of the distribution which in this instance was set to 50 (**loc=50**), the Standard deviation (spread or “width”) of the distribution was set to 5 (**scale=5**) and the number of random values or samples generated was set to 1000 (**size=1000**).\n",
    "\n",
    "The ouput of the first 50 random values generated shows how the values cluster round the mean of the distribution (loc=50).\n",
    "\n",
    "The seaborn distribution plot also hows the majority of the random values generated cluster around the central peak and then symmetrically taper off in both directions as the number of values generated move further away from the peak.  \n",
    "Therefore there is a higher probability that the random numbers generated by the **random.normal()** function will be closer to 50 and the probability will reduce as the values move away from 50. \n",
    "\n",
    "One examples of data that follow a normal distribution curve is population heights, it can be found that the number of people taller and shorter than the  average height of a population is almost similar and follows the symmetric bell curve of a normal distribution plot."
   ]
  },
  {
   "cell_type": "markdown",
   "metadata": {},
   "source": [
    "## 3.2 Uniform Distribution\n"
   ]
  },
  {
   "cell_type": "code",
   "execution_count": 15,
   "metadata": {
    "scrolled": false
   },
   "outputs": [
    {
     "name": "stdout",
     "output_type": "stream",
     "text": [
      "[4.57232605 4.67828817 4.1942889  3.14275569 3.16976961 4.40654794\n",
      " 3.78326263 3.04481068 0.6849666  4.28445996 4.73067695 2.32959966\n",
      " 1.53851504 2.77901583 2.18343411 3.97504513 2.39481055 0.58232546\n",
      " 2.67546384 3.16542851 0.20462837 1.71684724 3.16335613 4.76149999\n",
      " 4.12936625 4.56752939 4.07590535 3.61572379 3.6594278  0.37015401\n",
      " 4.53620912 2.55473744 0.16869513 0.51475169 2.63341651 0.63162017\n",
      " 1.91059929 1.87356144 1.45859568 1.51180074 0.11447763 4.8029799\n",
      " 3.27043578 4.43004825 3.70353511 1.44769479 3.06513642 0.58455164\n",
      " 0.20053286 2.73032412]\n"
     ]
    },
    {
     "data": {
      "image/png": "[encoded data removed]",
      "text/plain": [
       "<Figure size 432x288 with 1 Axes>"
      ]
     },
     "metadata": {
      "needs_background": "light"
     },
     "output_type": "display_data"
    }
   ],
   "source": [
    "# NumPy random uniform distribution\n",
    "arr_uni = np.random.uniform(low=0, high=5, size=(1000))\n",
    "\n",
    "# Seaborn distribution plot of array generated by the random uniform distribution\n",
    "sns.distplot(arr_uni, kde=False, bins=10, hist_kws=dict(edgecolor=\"k\", linewidth=1))\n",
    "\n",
    "# Output first 50 values of the random uniform distribution array\n",
    "print(arr_uni[0:50])"
   ]
  },
  {
   "cell_type": "markdown",
   "metadata": {},
   "source": [
    "Using NumPy's **random.uniform()** function, 1000 random uniform distributed values were generated (**size=1000**) from the lower bound value of 0 (**low=0**) upto the higher bound value of 5 (**high=5**).\n",
    "\n",
    "The output of the first 50 values show that the random values generated are floats and are within the range of 0 to 5.\n",
    "\n",
    "The seaborn distribution plot shows that the range of random values generated are approximately evenly distributed, 10 bins of approx width =0.5 each containing approx 100 counts to make up the total 1000 number of samples, i.e the **random.uniform()** function generated approx. 100 values within the ranges, 0.0 to 0.5, 0.5 to 1.0, 1.0 to 0.5...etc.\n",
    "\n",
    "An example of a uniform distribution would be the rolling of a 6 sided dice, there is a equal probabilty of rolling any of the 1 to 6 values of the dice. If the dice was to be rolled 6000 times, the results would follow a uniform distribution with each value being rolled approximately 1000 times.   "
   ]
  },
  {
   "cell_type": "markdown",
   "metadata": {},
   "source": [
    "## 3.3 Poisson Distribution"
   ]
  },
  {
   "cell_type": "code",
   "execution_count": 16,
   "metadata": {
    "scrolled": false
   },
   "outputs": [
    {
     "name": "stdout",
     "output_type": "stream",
     "text": [
      "Dictionary of Random Values =  {0: 2, 1: 5, 2: 23, 3: 16, 4: 14, 5: 15, 6: 15, 7: 5, 8: 3, 9: 2}\n"
     ]
    },
    {
     "data": {
      "image/png": "[encoded data removed]",
      "text/plain": [
       "<Figure size 432x288 with 1 Axes>"
      ]
     },
     "metadata": {
      "needs_background": "light"
     },
     "output_type": "display_data"
    }
   ],
   "source": [
    "# NumPy Random Poisson Distribution, λ = 4, sample size = 100\n",
    "arr_pois = np.random.poisson(lam=4, size=100)\n",
    "\n",
    "# Seaborn distribution plot of array generated by the random Poisson distribution\n",
    "sns.distplot(arr_pois, hist_kws=dict(edgecolor=\"k\", linewidth=1))\n",
    "\n",
    "# Change NumPy Array type to List type\n",
    "arr_pois_list = arr_pois.tolist\n",
    "\n",
    "# Create a dictionary with the random generated values as keys & number of occurances as values\n",
    "freq = {}\n",
    "for i in arr_pois_list():\n",
    "    if i in freq:\n",
    "        freq[i] += 1\n",
    "    else: \n",
    "        freq[i] = 1\n",
    "        \n",
    "# sort dictionary by keys\n",
    "sort_freq = {k : freq[k] for k in sorted(freq)}\n",
    "\n",
    "print(\"Dictionary of Random Values = \", sort_freq)"
   ]
  },
  {
   "cell_type": "markdown",
   "metadata": {},
   "source": [
    "Using NumPy's **random.poisson()** function with a lambda value λ = 4 (**lam=4**) a 100 number of samples of random numbers were generated (**size=100**) that follow the poisson's distribution.\n",
    "\n",
    "A Poisson distribution measures the probability of a given number of events of occuring within a specific amount of time based on the known average number of events that usually occurs within that amount of time (rate of occurrence).\n",
    "\n",
    "**Example:** If a office receives an average number of 4 e-mails in a day and the emails arrive independently of each other, it is fair to assume that the individual e-mails obey poisson distribution. Poisson distribution can be used to calculate probability of the office receiving 5 e-mails in a day.\n",
    "\n",
    "**Poisson Distribution Formula:**\n",
    "\n",
    "$$ P(x) = \\frac{e^{-\\lambda} \\lambda^x}{x!} \\hspace{1cm}(2)$$\n",
    "\n",
    "$ P(x) = $  probability of x events occuring within the given time interval or region of space\n",
    "\n",
    "$ x = $ 0,1,2,3… (number of events to occur, must be a whole number)\n",
    "\n",
    "$ e = $ 2.71828   (Euler's number) \n",
    "\n",
    "$ \\lambda  = $ mean number of events within the given time interval or region of space "
   ]
  },
  {
   "cell_type": "markdown",
   "metadata": {},
   "source": [
    "Using the office e-mail example above & Poisson Distribution Formula, the probability of the office receiving 5 e-mails in one day is calculated below, λ = 4, x = 5."
   ]
  },
  {
   "cell_type": "code",
   "execution_count": 17,
   "metadata": {},
   "outputs": [
    {
     "name": "stdout",
     "output_type": "stream",
     "text": [
      "Probability of Recieving 5 Emails in a Day =  0.15629387237595818\n"
     ]
    }
   ],
   "source": [
    "# Calculate the probability of the office receiving 5 e-mails within a day.\n",
    "import math\n",
    "\n",
    "# Define the function P_pois - formula (2)\n",
    "def P_pois(λ, x):\n",
    "    e = 2.71828\n",
    "    x_fac = math.factorial(x)\n",
    "    P_pois = ((e**-λ)*(λ**x))/x_fac\n",
    "    \n",
    "    return P_pois\n",
    "\n",
    "print(\"Probability of Recieving 5 Emails in a Day = \", P_pois(4, 5))"
   ]
  },
  {
   "cell_type": "markdown",
   "metadata": {},
   "source": [
    "**Plotting P(x) values with NumPy's Poisson Random Distribution**"
   ]
  },
  {
   "cell_type": "code",
   "execution_count": 18,
   "metadata": {},
   "outputs": [
    {
     "data": {
      "text/plain": [
       "<matplotlib.axes._subplots.AxesSubplot at 0x14520972070>"
      ]
     },
     "execution_count": 18,
     "metadata": {},
     "output_type": "execute_result"
    },
    {
     "data": {
      "image/png": "[encoded data removed]",
      "text/plain": [
       "<Figure size 432x288 with 1 Axes>"
      ]
     },
     "metadata": {
      "needs_background": "light"
     },
     "output_type": "display_data"
    }
   ],
   "source": [
    "# Plotting the values calculated using Poisson Distribution Formula vs NumPy's Random Poisson Distribution Function \n",
    "\n",
    "# Numpy array with values from 0 to 10 \n",
    "r = np.arange(11)\n",
    "# empty list 's'\n",
    "s = []\n",
    "\n",
    "# for loop to calulate P(x) for each of the 'r' array values\n",
    "for i in r:\n",
    "    s.append(P_pois(4, i))\n",
    "\n",
    "sns.scatterplot(x=r, y=s, color='r')\n",
    "sns.distplot(arr_pois, hist_kws=dict(edgecolor=\"k\", linewidth=1))"
   ]
  },
  {
   "cell_type": "markdown",
   "metadata": {},
   "source": [
    "The dictionary output of the random numbers generated show that all the values generated are intergers. \n",
    "\n",
    "The distribution plot & dictionary also show the range of random values generated, the fit of the distribution plot was also verified by plotting the values calculated using exponential distribution formula (2).\n",
    "\n",
    "The probability of the office receiving 5 emails in one day was calculated to be 0.156."
   ]
  },
  {
   "cell_type": "markdown",
   "metadata": {},
   "source": [
    "## 3.4 Exponential Distribution"
   ]
  },
  {
   "cell_type": "code",
   "execution_count": 19,
   "metadata": {
    "scrolled": true
   },
   "outputs": [
    {
     "data": {
      "text/plain": [
       "(0.0, 2.1850214403147272)"
      ]
     },
     "execution_count": 19,
     "metadata": {},
     "output_type": "execute_result"
    },
    {
     "data": {
      "image/png": "[encoded data removed]",
      "text/plain": [
       "<Figure size 432x288 with 1 Axes>"
      ]
     },
     "metadata": {
      "needs_background": "light"
     },
     "output_type": "display_data"
    }
   ],
   "source": [
    "# NumPy random exponential distribution\n",
    "arr_expo = np.random.exponential(0.25, 1000)\n",
    "\n",
    "# Seaborn distribution plot of array  generated by the random exponential distribution\n",
    "# Fit a exponential line to the plot using scipy.stats.expon [14]\n",
    "sns.distplot(arr_expo, fit = stats.expon, kde=False, \n",
    "             fit_kws={\"color\": \"red\", \"lw\": 1})\n",
    "\n",
    "# limit the start range of x-axis to 0 \n",
    "plt.xlim(0)"
   ]
  },
  {
   "cell_type": "markdown",
   "metadata": {},
   "source": [
    "Using NumPy's **random.exponential()** function with a scale parameter 0.25 and a sample size = 1000.\n",
    "\n",
    "The exponential distribution is used to model the time elapsed between events that occur within the poisson distribution, and is given by the function:\n",
    "\n",
    "$$f(x; \\frac{1}{\\beta}) = \\frac{1}{\\beta} e^{-\\frac{x}{\\beta}} \\hspace{1cm}(3)$$\n",
    "\n",
    "From the example above the office receives 4 email per day and therefore the rate of occurrence λ = 4 \n",
    "\n",
    "The scale parameter for the exponential distribution $\\beta = \\frac{1}{\\lambda} = \\frac{1}{4} = 0.25$"
   ]
  },
  {
   "cell_type": "code",
   "execution_count": 20,
   "metadata": {},
   "outputs": [],
   "source": [
    "# Define the exponential distribution function, f_expo - formula (3)\n",
    "def f_expo(x, λ):\n",
    "    e = 2.71828\n",
    "    b = (1/λ)\n",
    "    f_expo = (1/b)*(e**-(x/b))\n",
    "    \n",
    "    return f_expo"
   ]
  },
  {
   "cell_type": "markdown",
   "metadata": {},
   "source": [
    "**Plotting f(x) values with NumPy's Exponential Random Distribution**"
   ]
  },
  {
   "cell_type": "code",
   "execution_count": 21,
   "metadata": {},
   "outputs": [
    {
     "data": {
      "text/plain": [
       "<matplotlib.axes._subplots.AxesSubplot at 0x14520ac5eb0>"
      ]
     },
     "execution_count": 21,
     "metadata": {},
     "output_type": "execute_result"
    },
    {
     "data": {
      "image/png": "[encoded data removed]",
      "text/plain": [
       "<Figure size 432x288 with 1 Axes>"
      ]
     },
     "metadata": {
      "needs_background": "light"
     },
     "output_type": "display_data"
    }
   ],
   "source": [
    "# Plotting the values calculated using Exponential Distribution Formula vs NumPy's Random Exponential Distribution Function \n",
    "\n",
    "t = np.arange(1.5, step=0.1)\n",
    "# empty list 't'\n",
    "v = []\n",
    "\n",
    "# for loop to calulate P(x) for each of the 'r' array values\n",
    "for i in t:\n",
    "    v.append(f_expo(i, 4))\n",
    "    \n",
    "sns.scatterplot(x=t, y=v, color='g')\n",
    "sns.distplot(arr_expo, fit = stats.expon, kde=False, \n",
    "             fit_kws={\"color\": \"red\", \"lw\": 1})"
   ]
  },
  {
   "cell_type": "markdown",
   "metadata": {},
   "source": [
    "The distribution plots show that the values random values calculated are floats and the range of random values generated fit within the exponential distribution, this was verified plotting both the values calculated using exponential distribution formula (3) & scipy's built in exponential function."
   ]
  },
  {
   "cell_type": "markdown",
   "metadata": {},
   "source": [
    "## 3.5 Binomial Distribution"
   ]
  },
  {
   "cell_type": "code",
   "execution_count": 55,
   "metadata": {
    "scrolled": true
   },
   "outputs": [
    {
     "name": "stdout",
     "output_type": "stream",
     "text": [
      "Dictionary of Random Values =  {2: 5, 3: 12, 4: 21, 5: 23, 6: 22, 7: 10, 8: 5, 9: 2}\n"
     ]
    },
    {
     "data": {
      "image/png": "[encoded data removed]",
      "text/plain": [
       "<Figure size 432x288 with 1 Axes>"
      ]
     },
     "metadata": {
      "needs_background": "light"
     },
     "output_type": "display_data"
    }
   ],
   "source": [
    "# NumPy random binomial distribution\n",
    "arr_bin = np.random.binomial(n=10, p=0.5, size=100)\n",
    "\n",
    "# Seaborn distribution plot of array generated by the random binomial distribution\n",
    "sns.distplot(arr_bin, kde=False)\n",
    "\n",
    "# Change NumPy Array type to List type\n",
    "arr_bin_list = arr_bin.tolist\n",
    "\n",
    "# Create a dictionary with the random generated values as keys & number of occurances as values\n",
    "freq_bin = {}\n",
    "for i in arr_bin_list():\n",
    "    if i in freq_bin:\n",
    "        freq_bin[i] += 1\n",
    "    else: \n",
    "        freq_bin[i] = 1\n",
    "        \n",
    "# sort dictionary by keys\n",
    "sort_freq_bin = {k : freq_bin[k] for k in sorted(freq_bin)}\n",
    "\n",
    "print(\"Dictionary of Random Values = \", sort_freq_bin)"
   ]
  },
  {
   "cell_type": "markdown",
   "metadata": {},
   "source": [
    "Using NumPy's **random.binomial()** function with 10 number of trials (**n=10**), probability of the event of interest occurring in any one trial (**p=0.5**), and 100 number of samples generated (**size=100**).\n",
    "\n",
    "The binomial distribution determines the probability of observing a specified number of successful outcomes in a specified number of trials [16]\n",
    "\n",
    "Example: A coin is flipped 10 times, number of trials n=10, this is considered a single experiement. The probability of success where the coin lands on heads is p=0.5. Every time the coin lands on heads it will count as a 1, otherwise tails is registered as a 0.\n",
    "Repeating the 10 number coin flips or the single experiement a 100 times, it can be observed that the results will follow the binomial distribution.\n",
    "\n",
    "The distribution plot & dictionary show is a higher probability of observing"
   ]
  },
  {
   "cell_type": "markdown",
   "metadata": {},
   "source": [
    "## References\n",
    "\n",
    "[1] [geeksforgeeks.org, Numpy](https://www.geeksforgeeks.org/python-numpy/)\n",
    "\n",
    "[2] [numpy.org,  Absolute Beginners Tutorial](https://numpy.org/doc/1.19/user/absolute_beginners.html)\n",
    "\n",
    "[3] [towardsdatascience.com, The Ultimate Beginners Guide to NumPy ](https://towardsdatascience.com/the-ultimate-beginners-guide-to-numpy-f5a2f99aef54)\n",
    "\n",
    "[4] [stackabuse.com, NumPy Tutorial - a Simple Example Based Tutorial](https://stackabuse.com/numpy-tutorial-a-simple-example-based-guide/)\n",
    "\n",
    "[5] [investopedia.com, Simple Random Sample](https://www.investopedia.com/terms/s/simple-random-sample.asp)\n",
    "\n",
    "[6] [moonbooks.org, How to Randomly Select Elements of an Array with NumPy](https://moonbooks.org/Articles/How-to-randomly-select-elements-of-an-array-with-numpy-in-python-/)\n",
    "\n",
    "[7] [numpy.org, Random Permutation](https://numpy.org/devdocs/reference/random/generated/numpy.random.permutation.html)\n",
    "\n",
    "[8] [numpy.org, Random Shuffle](https://numpy.org/devdocs/reference/random/generated/numpy.random.shuffle.html)\n",
    "\n",
    "[9] [scipy.org, NumPy Random Sampling](https://docs.scipy.org/doc/numpy-1.14.0/reference/routines.random.html)\n",
    "\n",
    "[10] [statisticsbyjim.com, Normal Distribution](https://statisticsbyjim.com/basics/normal-distribution/#:~:text=The%20normal%20distribution%20is%20the,distribution%20and%20the%20bell%20curve.)\n",
    "\n",
    "[11] [vedantu.com, Uniform Distribution](https://www.vedantu.com/maths/uniform-distribution)\n",
    "\n",
    "[12] [intmath.com, Poisson Probability Distribution](https://www.intmath.com/counting-probability/13-poisson-probability-distribution.php)\n",
    "\n",
    "[13] [medium.com, Exponential Distribution](https://medium.com/@rrfd/what-is-the-exponential-distribution-a-gentle-introduction-questions-and-examples-with-python-d711d98f4b04)\n",
    "\n",
    "[14] [datadriveninvestor.com, Exponential Distribution](https://www.datadriveninvestor.com/2020/05/20/simulating-popular-distributions-in-python/#crayon-5faaeda04314c680483821-7:~:text=ax%20%3D%20sns.distplot(x%2C%20fit%20%3D%20stats.expon%2C,fit_kws%3D%7B%22color%22%3A%20%22black%22%2C%20%22lw%22%3A%203%2C%20%22label%22%3A%20%22exp%22%7D))\n",
    "\n",
    "[15] [medium.com, Sean Owen - Common Probability Distributions](https://medium.com/@srowen/common-probability-distributions-347e6b945ce4)\n",
    "\n",
    "[16] [investopedia.com, Binomial Distribution](https://www.investopedia.com/terms/b/binomialdistribution.asp#:~:text=Binomial%20distribution%20summarizes%20the%20number,a%20specified%20number%20of%20trials)"
   ]
  }
 ],
 "metadata": {
  "kernelspec": {
   "display_name": "Python 3",
   "language": "python",
   "name": "python3"
  },
  "language_info": {
   "codemirror_mode": {
    "name": "ipython",
    "version": 3
   },
   "file_extension": ".py",
   "mimetype": "text/x-python",
   "name": "python",
   "nbconvert_exporter": "python",
   "pygments_lexer": "ipython3",
   "version": "3.8.3"
  }
 },
 "nbformat": 4,
 "nbformat_minor": 4
}
